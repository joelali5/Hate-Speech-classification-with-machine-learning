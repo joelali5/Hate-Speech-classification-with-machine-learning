{
  "nbformat": 4,
  "nbformat_minor": 0,
  "metadata": {
    "colab": {
      "name": "Keras_embeddings_checked.ipynb",
      "provenance": [],
      "collapsed_sections": [],
      "mount_file_id": "1Qwctw9gYLMUgRc_Rbm0DPQ4899AvDzbB",
      "authorship_tag": "ABX9TyNDCh57JMYtJAMkqTgwDiff",
      "include_colab_link": true
    },
    "kernelspec": {
      "name": "python3",
      "display_name": "Python 3"
    },
    "language_info": {
      "name": "python"
    }
  },
  "cells": [
    {
      "cell_type": "markdown",
      "metadata": {
        "id": "view-in-github",
        "colab_type": "text"
      },
      "source": [
        "<a href=\"https://colab.research.google.com/github/joelali5/Hate-Speech-classification-with-machine-learning/blob/main/Keras_embeddings_2.ipynb\" target=\"_parent\"><img src=\"https://colab.research.google.com/assets/colab-badge.svg\" alt=\"Open In Colab\"/></a>"
      ]
    },
    {
      "cell_type": "code",
      "execution_count": 1,
      "metadata": {
        "colab": {
          "base_uri": "https://localhost:8080/"
        },
        "id": "8eCfA9JQM8o7",
        "outputId": "0a02bac9-7dd0-4cc6-fa7e-03719023845b"
      },
      "outputs": [
        {
          "output_type": "stream",
          "name": "stdout",
          "text": [
            "Looking in indexes: https://pypi.org/simple, https://us-python.pkg.dev/colab-wheels/public/simple/\n",
            "Collecting tweet-preprocessor\n",
            "  Downloading tweet_preprocessor-0.6.0-py3-none-any.whl (27 kB)\n",
            "Installing collected packages: tweet-preprocessor\n",
            "Successfully installed tweet-preprocessor-0.6.0\n"
          ]
        },
        {
          "output_type": "stream",
          "name": "stderr",
          "text": [
            "[nltk_data] Downloading package stopwords to /root/nltk_data...\n",
            "[nltk_data]   Unzipping corpora/stopwords.zip.\n"
          ]
        }
      ],
      "source": [
        "!pip install tweet-preprocessor\n",
        "import pandas as pd\n",
        "import numpy as np\n",
        "from keras.preprocessing import sequence,text\n",
        "from keras.preprocessing.text import Tokenizer, one_hot\n",
        "from keras.models import Sequential\n",
        "from keras.layers import Dense,Dropout,Flatten,Embedding,LSTM,Conv1D,GlobalMaxPooling1D,Flatten,MaxPooling1D,GRU,SpatialDropout1D,Bidirectional\n",
        "from keras.callbacks import EarlyStopping\n",
        "from tensorflow.keras.utils import to_categorical\n",
        "# from keras.losses import categorical_crossentropy, SparseCategoricalCrossentropy\n",
        "from keras.losses import BinaryCrossentropy, SparseCategoricalCrossentropy\n",
        "from tensorflow.keras.optimizers import Adam\n",
        "from sklearn.model_selection import train_test_split\n",
        "import matplotlib.pyplot as plt\n",
        "\n",
        "from keras.preprocessing.text import Tokenizer\n",
        "\n",
        "from tensorflow.keras.preprocessing.sequence import pad_sequences\n",
        "\n",
        "import os\n",
        "\n",
        "import seaborn as sns\n",
        "import re\n",
        "import matplotlib.pyplot as plt\n",
        "\n",
        "import seaborn as sns\n",
        "from plotly.offline import download_plotlyjs, init_notebook_mode, plot, iplot\n",
        "\n",
        "from wordcloud import WordCloud, STOPWORDS\n",
        "\n",
        "import nltk\n",
        "from nltk.corpus import stopwords\n",
        "\n",
        "from sklearn.feature_extraction.text import TfidfVectorizer\n",
        "\n",
        "import nltk\n",
        "nltk.download('stopwords')\n",
        "\n",
        "from sklearn import metrics\n",
        "\n",
        "from numpy import array\n",
        "import preprocessor as p"
      ]
    },
    {
      "cell_type": "code",
      "source": [
        "df = pd.read_csv(\"/content/drive/MyDrive/train.csv\")"
      ],
      "metadata": {
        "id": "T8lHwrwmNN3Z"
      },
      "execution_count": 2,
      "outputs": []
    },
    {
      "cell_type": "code",
      "source": [
        "REPLACE_NO_SPACE = re.compile(\"(\\.)|(\\;)|(\\:)|(\\!)|(\\')|(\\?)|(\\,)|(\\\")|(\\|)|(\\()|(\\))|(\\[)|(\\])|(\\%)|(\\ð)|(\\$)|(\\>)|(\\<)|(\\{)|(\\})\")\n",
        "REPLACE_WITH_SPACE = re.compile(\"(<br\\s/><br\\s/?)|(-)|(/)|(:).\")\n",
        "\n",
        "def clean_tweets(df):\n",
        "  tempArr = []\n",
        "  for line in df:\n",
        "    # send to tweet_processor\n",
        "    tmpL = p.clean(line)\n",
        "    # remove puctuation\n",
        "    tmpL = REPLACE_NO_SPACE.sub(\"\", tmpL.lower())\n",
        "    tmpL = REPLACE_WITH_SPACE.sub(\" \", tmpL)\n",
        "    tempArr.append(tmpL)\n",
        "  return tempArr"
      ],
      "metadata": {
        "id": "55SKunwENWwO"
      },
      "execution_count": 3,
      "outputs": []
    },
    {
      "cell_type": "code",
      "source": [
        "X = clean_tweets(df[\"tweet\"])\n",
        "y = array(df[\"label\"])\n",
        "\n",
        "X_train, X_test, y_train, y_test = train_test_split(X, y, test_size=0.20, random_state=42, shuffle=True, stratify=y)"
      ],
      "metadata": {
        "id": "KDuSujnDNaeY"
      },
      "execution_count": 8,
      "outputs": []
    },
    {
      "cell_type": "code",
      "source": [
        "# len(X_train), len(X_test)\n",
        "len(y_train), len(y_test)"
      ],
      "metadata": {
        "colab": {
          "base_uri": "https://localhost:8080/"
        },
        "id": "3WQ4hdtE41XY",
        "outputId": "7ad3a10a-7fcc-49cb-ddcb-76f828c3b3c6"
      },
      "execution_count": 6,
      "outputs": [
        {
          "output_type": "execute_result",
          "data": {
            "text/plain": [
              "(25569, 6393)"
            ]
          },
          "metadata": {},
          "execution_count": 6
        }
      ]
    },
    {
      "cell_type": "code",
      "source": [
        "tokenizer = Tokenizer()\n",
        "tokenizer.fit_on_texts(X_train + X_test)\n",
        "\n",
        "print(\"Vocabulary Size : {}\".format(len(tokenizer.index_word)))\n",
        "\n",
        "max_tokens = 240\n",
        "## Vectorizing data to keep max_tokens words per sample.\n",
        "X_train = pad_sequences(tokenizer.texts_to_sequences(X_train), maxlen=max_tokens, padding=\"post\", truncating=\"post\", value=0)\n",
        "X_test  = pad_sequences(tokenizer.texts_to_sequences(X_test), maxlen=max_tokens, padding=\"post\", truncating=\"post\", value=0)\n",
        "\n",
        "print(X_train[:2])\n",
        "\n",
        "X_train.shape, X_test.shape"
      ],
      "metadata": {
        "id": "d6p7Kk2x5IH6"
      },
      "execution_count": null,
      "outputs": []
    },
    {
      "cell_type": "code",
      "source": [
        "embed_len = 240\n",
        "model = Sequential()\n",
        "model.add(Embedding(len(tokenizer.index_word)+1, embed_len, input_length=max_tokens))\n",
        "model.add(Conv1D(128, 5, activation='relu'))\n",
        "model.add(GlobalMaxPooling1D())\n",
        "model.add(Dense(1))\n",
        "model.compile(optimizer='adam', loss='binary_crossentropy', metrics=['accuracy'])\n",
        "print(model.summary())\n",
        "\n",
        "model.summary()"
      ],
      "metadata": {
        "colab": {
          "base_uri": "https://localhost:8080/"
        },
        "id": "u2MKONiOrk8g",
        "outputId": "aeb94cfb-83e8-4452-bbe2-93f06603d2d8"
      },
      "execution_count": 10,
      "outputs": [
        {
          "output_type": "stream",
          "name": "stdout",
          "text": [
            "Model: \"sequential\"\n",
            "_________________________________________________________________\n",
            " Layer (type)                Output Shape              Param #   \n",
            "=================================================================\n",
            " embedding (Embedding)       (None, 240, 240)          5468400   \n",
            "                                                                 \n",
            " conv1d (Conv1D)             (None, 236, 128)          153728    \n",
            "                                                                 \n",
            " global_max_pooling1d (Globa  (None, 128)              0         \n",
            " lMaxPooling1D)                                                  \n",
            "                                                                 \n",
            " dense (Dense)               (None, 1)                 129       \n",
            "                                                                 \n",
            "=================================================================\n",
            "Total params: 5,622,257\n",
            "Trainable params: 5,622,257\n",
            "Non-trainable params: 0\n",
            "_________________________________________________________________\n",
            "None\n",
            "Model: \"sequential\"\n",
            "_________________________________________________________________\n",
            " Layer (type)                Output Shape              Param #   \n",
            "=================================================================\n",
            " embedding (Embedding)       (None, 240, 240)          5468400   \n",
            "                                                                 \n",
            " conv1d (Conv1D)             (None, 236, 128)          153728    \n",
            "                                                                 \n",
            " global_max_pooling1d (Globa  (None, 128)              0         \n",
            " lMaxPooling1D)                                                  \n",
            "                                                                 \n",
            " dense (Dense)               (None, 1)                 129       \n",
            "                                                                 \n",
            "=================================================================\n",
            "Total params: 5,622,257\n",
            "Trainable params: 5,622,257\n",
            "Non-trainable params: 0\n",
            "_________________________________________________________________\n"
          ]
        }
      ]
    },
    {
      "cell_type": "code",
      "source": [
        "model.compile(optimizer='adam',loss = BinaryCrossentropy(from_logits=True), metrics=['accuracy'])"
      ],
      "metadata": {
        "id": "03id26Yp60OD"
      },
      "execution_count": 11,
      "outputs": []
    },
    {
      "cell_type": "code",
      "source": [
        "history = model.fit(X_train, y_train, batch_size=32, epochs=5, validation_split=0.2)"
      ],
      "metadata": {
        "colab": {
          "base_uri": "https://localhost:8080/"
        },
        "id": "9C3Ghn9PRFaY",
        "outputId": "20264e3d-f95a-4185-dfb1-bdf60cebb2d1"
      },
      "execution_count": 12,
      "outputs": [
        {
          "output_type": "stream",
          "name": "stdout",
          "text": [
            "Epoch 1/5\n",
            "640/640 [==============================] - 155s 241ms/step - loss: 0.1906 - accuracy: 0.9403 - val_loss: 0.1526 - val_accuracy: 0.9503\n",
            "Epoch 2/5\n",
            "640/640 [==============================] - 153s 239ms/step - loss: 0.0833 - accuracy: 0.9704 - val_loss: 0.1582 - val_accuracy: 0.9513\n",
            "Epoch 3/5\n",
            "640/640 [==============================] - 150s 235ms/step - loss: 0.0270 - accuracy: 0.9904 - val_loss: 0.2038 - val_accuracy: 0.9499\n",
            "Epoch 4/5\n",
            "640/640 [==============================] - 150s 235ms/step - loss: 0.0101 - accuracy: 0.9970 - val_loss: 0.2136 - val_accuracy: 0.9464\n",
            "Epoch 5/5\n",
            "640/640 [==============================] - 156s 243ms/step - loss: 0.0043 - accuracy: 0.9988 - val_loss: 0.2906 - val_accuracy: 0.9492\n"
          ]
        }
      ]
    },
    {
      "cell_type": "code",
      "source": [
        "loss, accuracy = model.evaluate(X_train, y_train, verbose=False)\n",
        "print(\"Training Accuracy: {:.4f}\".format(accuracy))\n",
        "loss, accuracy = model.evaluate(X_test, y_test, verbose=False)\n",
        "print(\"Testing Accuracy:  {:.4f}\".format(accuracy))"
      ],
      "metadata": {
        "colab": {
          "base_uri": "https://localhost:8080/"
        },
        "id": "3LAZAcOJY19v",
        "outputId": "7e3a2594-fb5f-4f36-9f94-b098a65edfd0"
      },
      "execution_count": 13,
      "outputs": [
        {
          "output_type": "stream",
          "name": "stdout",
          "text": [
            "Training Accuracy: 0.9890\n",
            "Testing Accuracy:  0.9551\n"
          ]
        }
      ]
    },
    {
      "cell_type": "code",
      "source": [
        "from sklearn.metrics import accuracy_score, classification_report\n",
        "\n",
        "# train_preds = model.predict(X_train)\n",
        "test_preds = model.predict(X_test)\n",
        "\n",
        "test_preds = np.where(test_preds > 0.5, 1, 0)\n",
        "\n",
        "print(\"Test  Accuracy : {}\".format(accuracy_score(y_test, test_preds)))\n",
        "print(\"\\nClassification Report : \")\n",
        "print(classification_report(y_test, test_preds))"
      ],
      "metadata": {
        "colab": {
          "base_uri": "https://localhost:8080/"
        },
        "id": "mZoHt5Nm8OPr",
        "outputId": "b20989f2-3a73-4706-c175-5950eaf23e55"
      },
      "execution_count": 14,
      "outputs": [
        {
          "output_type": "stream",
          "name": "stdout",
          "text": [
            "Test  Accuracy : 0.9551071484436102\n",
            "\n",
            "Classification Report : \n",
            "              precision    recall  f1-score   support\n",
            "\n",
            "           0       0.96      0.99      0.98      5945\n",
            "           1       0.81      0.47      0.59       448\n",
            "\n",
            "    accuracy                           0.96      6393\n",
            "   macro avg       0.89      0.73      0.78      6393\n",
            "weighted avg       0.95      0.96      0.95      6393\n",
            "\n"
          ]
        }
      ]
    },
    {
      "cell_type": "code",
      "source": [
        "from sklearn.metrics import confusion_matrix\n",
        "\n",
        "import seaborn as sns\n",
        "import matplotlib.pyplot as plt\n",
        "\n",
        "cm = confusion_matrix(y_test, test_preds)\n",
        "\n",
        "sns.heatmap(cm, annot=True, fmt='d')\n",
        "plt.xlabel('Predicted')\n",
        "plt.ylabel('Truth')"
      ],
      "metadata": {
        "colab": {
          "base_uri": "https://localhost:8080/",
          "height": 297
        },
        "id": "rmhqpJTDAS-B",
        "outputId": "437367e5-aaee-4ecf-e295-45d1877529e9"
      },
      "execution_count": 15,
      "outputs": [
        {
          "output_type": "execute_result",
          "data": {
            "text/plain": [
              "Text(33.0, 0.5, 'Truth')"
            ]
          },
          "metadata": {},
          "execution_count": 15
        },
        {
          "output_type": "display_data",
          "data": {
            "text/plain": [
              "<Figure size 432x288 with 2 Axes>"
            ],
            "image/png": "[encoded data removed]"
          },
          "metadata": {
            "needs_background": "light"
          }
        }
      ]
    }
  ]
}