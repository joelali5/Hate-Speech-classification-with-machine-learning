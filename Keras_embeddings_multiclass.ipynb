{
  "nbformat": 4,
  "nbformat_minor": 0,
  "metadata": {
    "colab": {
      "name": "Keras_embeddings_multiclass.ipynb",
      "provenance": [],
      "collapsed_sections": [],
      "mount_file_id": "1Qwctw9gYLMUgRc_Rbm0DPQ4899AvDzbB",
      "authorship_tag": "ABX9TyNx+VEKuMoK2VZhNQSntINI",
      "include_colab_link": true
    },
    "kernelspec": {
      "name": "python3",
      "display_name": "Python 3"
    },
    "language_info": {
      "name": "python"
    },
    "gpuClass": "standard",
    "accelerator": "GPU"
  },
  "cells": [
    {
      "cell_type": "markdown",
      "metadata": {
        "id": "view-in-github",
        "colab_type": "text"
      },
      "source": [
        "<a href=\"https://colab.research.google.com/github/joelali5/Hate-Speech-classification-with-machine-learning/blob/main/Keras_embeddings_multiclass.ipynb\" target=\"_parent\"><img src=\"https://colab.research.google.com/assets/colab-badge.svg\" alt=\"Open In Colab\"/></a>"
      ]
    },
    {
      "cell_type": "code",
      "execution_count": 1,
      "metadata": {
        "colab": {
          "base_uri": "https://localhost:8080/"
        },
        "id": "8eCfA9JQM8o7",
        "outputId": "3a5d80ce-0a3f-410f-bd6c-f1d99777eee3"
      },
      "outputs": [
        {
          "output_type": "stream",
          "name": "stdout",
          "text": [
            "Looking in indexes: https://pypi.org/simple, https://us-python.pkg.dev/colab-wheels/public/simple/\n",
            "Collecting tweet-preprocessor\n",
            "  Downloading tweet_preprocessor-0.6.0-py3-none-any.whl (27 kB)\n",
            "Installing collected packages: tweet-preprocessor\n",
            "Successfully installed tweet-preprocessor-0.6.0\n"
          ]
        },
        {
          "output_type": "stream",
          "name": "stderr",
          "text": [
            "[nltk_data] Downloading package stopwords to /root/nltk_data...\n",
            "[nltk_data]   Unzipping corpora/stopwords.zip.\n"
          ]
        }
      ],
      "source": [
        "!pip install tweet-preprocessor\n",
        "import pandas as pd\n",
        "import numpy as np\n",
        "from keras.preprocessing import sequence,text\n",
        "from keras.preprocessing.text import Tokenizer, one_hot\n",
        "from keras.models import Sequential\n",
        "from keras.layers import Dense,Dropout,Flatten,Embedding,LSTM,Conv1D,GlobalMaxPooling1D,Flatten,MaxPooling1D,GRU,SpatialDropout1D,Bidirectional\n",
        "from keras.callbacks import EarlyStopping\n",
        "from tensorflow.keras.utils import to_categorical\n",
        "# from keras.losses import categorical_crossentropy, SparseCategoricalCrossentropy\n",
        "from keras.losses import BinaryCrossentropy, SparseCategoricalCrossentropy, CategoricalCrossentropy\n",
        "from tensorflow.keras.optimizers import Adam\n",
        "from sklearn.model_selection import train_test_split\n",
        "import matplotlib.pyplot as plt\n",
        "\n",
        "from keras.preprocessing.text import Tokenizer\n",
        "\n",
        "from tensorflow.keras.preprocessing.sequence import pad_sequences\n",
        "\n",
        "import os\n",
        "\n",
        "import seaborn as sns\n",
        "import re\n",
        "import matplotlib.pyplot as plt\n",
        "\n",
        "import seaborn as sns\n",
        "from plotly.offline import download_plotlyjs, init_notebook_mode, plot, iplot\n",
        "\n",
        "from wordcloud import WordCloud, STOPWORDS\n",
        "\n",
        "import nltk\n",
        "from nltk.corpus import stopwords\n",
        "\n",
        "from sklearn.feature_extraction.text import TfidfVectorizer\n",
        "\n",
        "import nltk\n",
        "nltk.download('stopwords')\n",
        "\n",
        "from sklearn import metrics\n",
        "\n",
        "from numpy import array\n",
        "import preprocessor as p"
      ]
    },
    {
      "cell_type": "code",
      "source": [
        "df = pd.read_csv(\"/content/drive/MyDrive/labeled_data.csv\")"
      ],
      "metadata": {
        "id": "T8lHwrwmNN3Z"
      },
      "execution_count": 2,
      "outputs": []
    },
    {
      "cell_type": "code",
      "source": [
        "REPLACE_NO_SPACE = re.compile(\"(\\.)|(\\;)|(\\:)|(\\!)|(\\')|(\\?)|(\\,)|(\\\")|(\\|)|(\\()|(\\))|(\\[)|(\\])|(\\%)|(\\ð)|(\\$)|(\\>)|(\\<)|(\\{)|(\\})\")\n",
        "REPLACE_WITH_SPACE = re.compile(\"(<br\\s/><br\\s/?)|(-)|(/)|(:).\")\n",
        "\n",
        "def clean_tweets(df):\n",
        "  tempArr = []\n",
        "  for line in df:\n",
        "    # send to tweet_processor\n",
        "    tmpL = p.clean(line)\n",
        "    # remove puctuation\n",
        "    tmpL = REPLACE_NO_SPACE.sub(\"\", tmpL.lower())\n",
        "    tmpL = REPLACE_WITH_SPACE.sub(\" \", tmpL)\n",
        "    tempArr.append(tmpL)\n",
        "  return tempArr"
      ],
      "metadata": {
        "id": "55SKunwENWwO"
      },
      "execution_count": 3,
      "outputs": []
    },
    {
      "cell_type": "code",
      "source": [
        "print(set(df['class']))"
      ],
      "metadata": {
        "colab": {
          "base_uri": "https://localhost:8080/"
        },
        "id": "DYL0i6UDYSEK",
        "outputId": "82585c9a-8135-4028-ed4c-7698d67f92d7"
      },
      "execution_count": 4,
      "outputs": [
        {
          "output_type": "stream",
          "name": "stdout",
          "text": [
            "{0, 1, 2}\n"
          ]
        }
      ]
    },
    {
      "cell_type": "code",
      "source": [
        "X = clean_tweets(df[\"tweet\"])\n",
        "y = array(df[\"class\"])\n",
        "\n",
        "X_train, X_test, y_train, y_test = train_test_split(X, y, test_size=0.20, random_state=42, shuffle=True, stratify=y)\n",
        "\n",
        "unique_classes = list(set(y_train))\n",
        "target_classes = [\"hate_speech\", \"offensive_language\", \"neither\"]"
      ],
      "metadata": {
        "id": "KDuSujnDNaeY"
      },
      "execution_count": 5,
      "outputs": []
    },
    {
      "cell_type": "code",
      "source": [
        "y_train"
      ],
      "metadata": {
        "colab": {
          "base_uri": "https://localhost:8080/"
        },
        "id": "3WQ4hdtE41XY",
        "outputId": "82668465-7910-4a78-e3de-605eaf5f40da"
      },
      "execution_count": 6,
      "outputs": [
        {
          "output_type": "execute_result",
          "data": {
            "text/plain": [
              "array([1, 1, 1, ..., 2, 1, 1])"
            ]
          },
          "metadata": {},
          "execution_count": 6
        }
      ]
    },
    {
      "cell_type": "code",
      "source": [
        "tokenizer = Tokenizer()\n",
        "tokenizer.fit_on_texts(X_train + X_test)\n",
        "\n",
        "print(\"Vocabulary Size : {}\".format(len(tokenizer.index_word)))\n",
        "\n",
        "max_tokens = 50\n",
        "## Vectorizing data to keep max_tokens words per sample.\n",
        "X_train = pad_sequences(tokenizer.texts_to_sequences(X_train), maxlen=max_tokens, padding=\"post\", truncating=\"post\", value=0)\n",
        "X_test  = pad_sequences(tokenizer.texts_to_sequences(X_test), maxlen=max_tokens, padding=\"post\", truncating=\"post\", value=0)\n",
        "\n",
        "print(X_train[:2])\n",
        "\n",
        "X_train.shape, X_test.shape"
      ],
      "metadata": {
        "id": "d6p7Kk2x5IH6"
      },
      "execution_count": null,
      "outputs": []
    },
    {
      "cell_type": "code",
      "source": [
        "import gc\n",
        "embed_len = 25\n",
        "# model = Sequential()\n",
        "# model.add(Embedding(len(tokenizer.index_word)+1, embed_len, input_length=max_tokens))\n",
        "# model.add(Conv1D(128, 5, activation='relu'))\n",
        "# model.add(GlobalMaxPooling1D())\n",
        "# model.add(Dense(1))\n",
        "# model.summary()\n",
        "\n",
        "model = Sequential([\n",
        "                    Embedding(len(tokenizer.index_word)+1, embed_len, input_length=max_tokens),\n",
        "                    Flatten(),\n",
        "                    Dense(128, activation=\"relu\"),\n",
        "                    Dense(len(target_classes), activation=\"softmax\")\n",
        "                    ]\n",
        "                )\n",
        "model.summary()"
      ],
      "metadata": {
        "colab": {
          "base_uri": "https://localhost:8080/"
        },
        "id": "u2MKONiOrk8g",
        "outputId": "e3f882b5-7147-4587-9da6-16e06f1a8ce4"
      },
      "execution_count": 8,
      "outputs": [
        {
          "output_type": "stream",
          "name": "stdout",
          "text": [
            "Model: \"sequential\"\n",
            "_________________________________________________________________\n",
            " Layer (type)                Output Shape              Param #   \n",
            "=================================================================\n",
            " embedding (Embedding)       (None, 50, 25)            506675    \n",
            "                                                                 \n",
            " flatten (Flatten)           (None, 1250)              0         \n",
            "                                                                 \n",
            " dense (Dense)               (None, 128)               160128    \n",
            "                                                                 \n",
            " dense_1 (Dense)             (None, 3)                 387       \n",
            "                                                                 \n",
            "=================================================================\n",
            "Total params: 667,190\n",
            "Trainable params: 667,190\n",
            "Non-trainable params: 0\n",
            "_________________________________________________________________\n"
          ]
        }
      ]
    },
    {
      "cell_type": "code",
      "source": [
        "model.compile(\"adam\", \"sparse_categorical_crossentropy\", metrics=[\"accuracy\"])"
      ],
      "metadata": {
        "id": "03id26Yp60OD"
      },
      "execution_count": 9,
      "outputs": []
    },
    {
      "cell_type": "code",
      "source": [
        "history = model.fit(X_train, y_train, batch_size=32, epochs=5, validation_data=(X_test, y_test))\n",
        "gc.collect()"
      ],
      "metadata": {
        "colab": {
          "base_uri": "https://localhost:8080/"
        },
        "id": "9C3Ghn9PRFaY",
        "outputId": "bb04bd61-f98e-4b7a-f36d-a42e375af9fb"
      },
      "execution_count": 10,
      "outputs": [
        {
          "output_type": "stream",
          "name": "stdout",
          "text": [
            "Epoch 1/5\n",
            "620/620 [==============================] - 5s 3ms/step - loss: 0.4393 - accuracy: 0.8447 - val_loss: 0.3309 - val_accuracy: 0.8868\n",
            "Epoch 2/5\n",
            "620/620 [==============================] - 2s 3ms/step - loss: 0.2246 - accuracy: 0.9216 - val_loss: 0.3203 - val_accuracy: 0.8836\n",
            "Epoch 3/5\n",
            "620/620 [==============================] - 2s 3ms/step - loss: 0.1158 - accuracy: 0.9606 - val_loss: 0.3819 - val_accuracy: 0.8824\n",
            "Epoch 4/5\n",
            "620/620 [==============================] - 2s 3ms/step - loss: 0.0523 - accuracy: 0.9833 - val_loss: 0.4767 - val_accuracy: 0.8709\n",
            "Epoch 5/5\n",
            "620/620 [==============================] - 2s 3ms/step - loss: 0.0295 - accuracy: 0.9909 - val_loss: 0.5240 - val_accuracy: 0.8711\n"
          ]
        },
        {
          "output_type": "execute_result",
          "data": {
            "text/plain": [
              "1402"
            ]
          },
          "metadata": {},
          "execution_count": 10
        }
      ]
    },
    {
      "cell_type": "code",
      "source": [
        "# loss, accuracy = model.evaluate(X_train, y_train, verbose=False)\n",
        "# print(\"Training Accuracy: {:.4f}\".format(accuracy))\n",
        "# loss, accuracy = model.evaluate(X_test, y_test, verbose=False)\n",
        "# print(\"Testing Accuracy:  {:.4f}\".format(accuracy))"
      ],
      "metadata": {
        "id": "3LAZAcOJY19v"
      },
      "execution_count": null,
      "outputs": []
    },
    {
      "cell_type": "code",
      "source": [
        "from sklearn.metrics import accuracy_score, classification_report\n",
        "\n",
        "test_preds = model.predict(X_test)\n",
        "\n",
        "print(\"Test  Accuracy : {}\".format(accuracy_score(y_test, np.argmax(test_preds, axis=1))))\n",
        "print(\"\\nClassification Report : \")\n",
        "print(classification_report(y_test, np.argmax(test_preds, axis=1), target_names=target_classes))"
      ],
      "metadata": {
        "colab": {
          "base_uri": "https://localhost:8080/"
        },
        "id": "WhgQxlw8_aM5",
        "outputId": "8146af18-125f-4d14-ff0d-be408c9e515a"
      },
      "execution_count": 11,
      "outputs": [
        {
          "output_type": "stream",
          "name": "stdout",
          "text": [
            "Test  Accuracy : 0.8710913859189026\n",
            "\n",
            "Classification Report : \n",
            "                    precision    recall  f1-score   support\n",
            "\n",
            "       hate_speech       0.36      0.25      0.29       286\n",
            "offensive_language       0.91      0.94      0.92      3838\n",
            "           neither       0.82      0.76      0.79       833\n",
            "\n",
            "          accuracy                           0.87      4957\n",
            "         macro avg       0.70      0.65      0.67      4957\n",
            "      weighted avg       0.86      0.87      0.86      4957\n",
            "\n"
          ]
        }
      ]
    },
    {
      "cell_type": "code",
      "source": [
        "# from sklearn.metrics import accuracy_score, classification_report\n",
        "\n",
        "# test_preds = model.predict(X_test)\n",
        "\n",
        "# test_preds = np.where(test_preds > 0.5, 1, 0)\n",
        "\n",
        "# print(\"Test  Accuracy : {}\".format(accuracy_score(y_test, test_preds)))\n",
        "# print(\"\\nClassification Report : \")\n",
        "# print(classification_report(y_test, test_preds))"
      ],
      "metadata": {
        "id": "mZoHt5Nm8OPr"
      },
      "execution_count": 38,
      "outputs": []
    },
    {
      "cell_type": "code",
      "source": [
        "!pip install scikit-plot\n",
        "from sklearn.metrics import confusion_matrix\n",
        "import scikitplot as skplt\n",
        "import matplotlib.pyplot as plt\n",
        "\n",
        "skplt.metrics.plot_confusion_matrix([target_classes[i] for i in y_test], [target_classes[i] for i in np.argmax(test_preds, axis=1)],\n",
        "                                    normalize=True,\n",
        "                                    title=\"Confusion Matrix\",\n",
        "                                    cmap=\"Blues\",\n",
        "                                    hide_zeros=True,\n",
        "                                    figsize=(5,5)\n",
        "                                    );\n",
        "plt.xticks(rotation=90);"
      ],
      "metadata": {
        "colab": {
          "base_uri": "https://localhost:8080/",
          "height": 721
        },
        "id": "UGiho4Pv_7PE",
        "outputId": "5d0d45a5-4c57-41ee-da7a-9db24931871c"
      },
      "execution_count": 12,
      "outputs": [
        {
          "output_type": "stream",
          "name": "stdout",
          "text": [
            "Looking in indexes: https://pypi.org/simple, https://us-python.pkg.dev/colab-wheels/public/simple/\n",
            "Collecting scikit-plot\n",
            "  Downloading scikit_plot-0.3.7-py3-none-any.whl (33 kB)\n",
            "Requirement already satisfied: scikit-learn>=0.18 in /usr/local/lib/python3.7/dist-packages (from scikit-plot) (1.0.2)\n",
            "Requirement already satisfied: scipy>=0.9 in /usr/local/lib/python3.7/dist-packages (from scikit-plot) (1.7.3)\n",
            "Requirement already satisfied: matplotlib>=1.4.0 in /usr/local/lib/python3.7/dist-packages (from scikit-plot) (3.2.2)\n",
            "Requirement already satisfied: joblib>=0.10 in /usr/local/lib/python3.7/dist-packages (from scikit-plot) (1.1.0)\n",
            "Requirement already satisfied: pyparsing!=2.0.4,!=2.1.2,!=2.1.6,>=2.0.1 in /usr/local/lib/python3.7/dist-packages (from matplotlib>=1.4.0->scikit-plot) (3.0.9)\n",
            "Requirement already satisfied: python-dateutil>=2.1 in /usr/local/lib/python3.7/dist-packages (from matplotlib>=1.4.0->scikit-plot) (2.8.2)\n",
            "Requirement already satisfied: cycler>=0.10 in /usr/local/lib/python3.7/dist-packages (from matplotlib>=1.4.0->scikit-plot) (0.11.0)\n",
            "Requirement already satisfied: numpy>=1.11 in /usr/local/lib/python3.7/dist-packages (from matplotlib>=1.4.0->scikit-plot) (1.21.6)\n",
            "Requirement already satisfied: kiwisolver>=1.0.1 in /usr/local/lib/python3.7/dist-packages (from matplotlib>=1.4.0->scikit-plot) (1.4.4)\n",
            "Requirement already satisfied: typing-extensions in /usr/local/lib/python3.7/dist-packages (from kiwisolver>=1.0.1->matplotlib>=1.4.0->scikit-plot) (4.1.1)\n",
            "Requirement already satisfied: six>=1.5 in /usr/local/lib/python3.7/dist-packages (from python-dateutil>=2.1->matplotlib>=1.4.0->scikit-plot) (1.15.0)\n",
            "Requirement already satisfied: threadpoolctl>=2.0.0 in /usr/local/lib/python3.7/dist-packages (from scikit-learn>=0.18->scikit-plot) (3.1.0)\n",
            "Installing collected packages: scikit-plot\n",
            "Successfully installed scikit-plot-0.3.7\n"
          ]
        },
        {
          "output_type": "display_data",
          "data": {
            "text/plain": [
              "<Figure size 360x360 with 2 Axes>"
            ],
            "image/png": "[encoded data removed]"
          },
          "metadata": {
            "needs_background": "light"
          }
        }
      ]
    },
    {
      "cell_type": "code",
      "source": [
        "# from sklearn.metrics import confusion_matrix\n",
        "\n",
        "# import seaborn as sns\n",
        "# import matplotlib.pyplot as plt\n",
        "\n",
        "# cm = confusion_matrix(y_test, test_preds)\n",
        "\n",
        "# sns.heatmap(cm, annot=True, fmt='d')\n",
        "# plt.xlabel('Predicted')\n",
        "# plt.ylabel('Truth')"
      ],
      "metadata": {
        "id": "rmhqpJTDAS-B"
      },
      "execution_count": 39,
      "outputs": []
    }
  ]
}